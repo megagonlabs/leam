{
 "cells": [
  {
   "cell_type": "code",
   "execution_count": 11,
   "metadata": {},
   "outputs": [],
   "source": [
    "import spacy\n",
    "import pandas as pd\n",
    "import numpy as np\n",
    "import time\n",
    "spacy_nlp = spacy.load('en_core_web_sm')"
   ]
  },
  {
   "cell_type": "code",
   "execution_count": 12,
   "metadata": {},
   "outputs": [
    {
     "data": {
      "text/html": [
       "<div>\n",
       "<style scoped>\n",
       "    .dataframe tbody tr th:only-of-type {\n",
       "        vertical-align: middle;\n",
       "    }\n",
       "\n",
       "    .dataframe tbody tr th {\n",
       "        vertical-align: top;\n",
       "    }\n",
       "\n",
       "    .dataframe thead th {\n",
       "        text-align: right;\n",
       "    }\n",
       "</style>\n",
       "<table border=\"1\" class=\"dataframe\">\n",
       "  <thead>\n",
       "    <tr style=\"text-align: right;\">\n",
       "      <th></th>\n",
       "      <th>Unnamed: 0</th>\n",
       "      <th>review_id</th>\n",
       "      <th>review</th>\n",
       "    </tr>\n",
       "  </thead>\n",
       "  <tbody>\n",
       "    <tr>\n",
       "      <th>0</th>\n",
       "      <td>821</td>\n",
       "      <td>tripadvisor_review_15083###4###usa_san francis...</td>\n",
       "      <td>The bathrooms were well appointed and very clean.</td>\n",
       "    </tr>\n",
       "    <tr>\n",
       "      <th>1</th>\n",
       "      <td>629</td>\n",
       "      <td>tripadvisor_review_11867###29###usa_san franci...</td>\n",
       "      <td>If you pick the right streets, you miss any bi...</td>\n",
       "    </tr>\n",
       "    <tr>\n",
       "      <th>2</th>\n",
       "      <td>820</td>\n",
       "      <td>tripadvisor_review_15081###14###usa_san franci...</td>\n",
       "      <td>Caution - don't travel too far south on Polk o...</td>\n",
       "    </tr>\n",
       "    <tr>\n",
       "      <th>3</th>\n",
       "      <td>569</td>\n",
       "      <td>tripadvisor_review_10736###6###usa_san francis...</td>\n",
       "      <td>The hotel staff (especially the concierge) was...</td>\n",
       "    </tr>\n",
       "    <tr>\n",
       "      <th>4</th>\n",
       "      <td>847</td>\n",
       "      <td>tripadvisor_review_15581###1###usa_san francis...</td>\n",
       "      <td>There are an excessive amount of homeless peop...</td>\n",
       "    </tr>\n",
       "    <tr>\n",
       "      <th>...</th>\n",
       "      <td>...</td>\n",
       "      <td>...</td>\n",
       "      <td>...</td>\n",
       "    </tr>\n",
       "    <tr>\n",
       "      <th>495</th>\n",
       "      <td>530</td>\n",
       "      <td>tripadvisor_review_10108###2###usa_san francis...</td>\n",
       "      <td>We had a standard King room.</td>\n",
       "    </tr>\n",
       "    <tr>\n",
       "      <th>496</th>\n",
       "      <td>551</td>\n",
       "      <td>tripadvisor_review_10538###0###usa_san francis...</td>\n",
       "      <td>Hotel Lobby was beautiful.</td>\n",
       "    </tr>\n",
       "    <tr>\n",
       "      <th>497</th>\n",
       "      <td>559</td>\n",
       "      <td>tripadvisor_review_10629###3###usa_san francis...</td>\n",
       "      <td>Very friendly and helpful staff.</td>\n",
       "    </tr>\n",
       "    <tr>\n",
       "      <th>498</th>\n",
       "      <td>988</td>\n",
       "      <td>tripadvisor_review_18399###10###usa_san franci...</td>\n",
       "      <td>Out of the shadows, a man in normal clothes sa...</td>\n",
       "    </tr>\n",
       "    <tr>\n",
       "      <th>499</th>\n",
       "      <td>372</td>\n",
       "      <td>tripadvisor_review_7045###10###usa_san francis...</td>\n",
       "      <td>The only problem we ever encountered was the l...</td>\n",
       "    </tr>\n",
       "  </tbody>\n",
       "</table>\n",
       "<p>500 rows × 3 columns</p>\n",
       "</div>"
      ],
      "text/plain": [
       "     Unnamed: 0                                          review_id  \\\n",
       "0           821  tripadvisor_review_15083###4###usa_san francis...   \n",
       "1           629  tripadvisor_review_11867###29###usa_san franci...   \n",
       "2           820  tripadvisor_review_15081###14###usa_san franci...   \n",
       "3           569  tripadvisor_review_10736###6###usa_san francis...   \n",
       "4           847  tripadvisor_review_15581###1###usa_san francis...   \n",
       "..          ...                                                ...   \n",
       "495         530  tripadvisor_review_10108###2###usa_san francis...   \n",
       "496         551  tripadvisor_review_10538###0###usa_san francis...   \n",
       "497         559  tripadvisor_review_10629###3###usa_san francis...   \n",
       "498         988  tripadvisor_review_18399###10###usa_san franci...   \n",
       "499         372  tripadvisor_review_7045###10###usa_san francis...   \n",
       "\n",
       "                                                review  \n",
       "0    The bathrooms were well appointed and very clean.  \n",
       "1    If you pick the right streets, you miss any bi...  \n",
       "2    Caution - don't travel too far south on Polk o...  \n",
       "3    The hotel staff (especially the concierge) was...  \n",
       "4    There are an excessive amount of homeless peop...  \n",
       "..                                                 ...  \n",
       "495                       We had a standard King room.  \n",
       "496                         Hotel Lobby was beautiful.  \n",
       "497                   Very friendly and helpful staff.  \n",
       "498  Out of the shadows, a man in normal clothes sa...  \n",
       "499  The only problem we ever encountered was the l...  \n",
       "\n",
       "[500 rows x 3 columns]"
      ]
     },
     "execution_count": 12,
     "metadata": {},
     "output_type": "execute_result"
    }
   ],
   "source": [
    "df = pd.read_csv('test_reviews_medium.csv')\n",
    "df"
   ]
  },
  {
   "cell_type": "code",
   "execution_count": 13,
   "metadata": {},
   "outputs": [],
   "source": [
    "def remove_punctuation_helper(text):\n",
    "    doc = spacy_nlp(text)\n",
    "    toks = [token.text for token in doc if not token.is_punct]\n",
    "    return \" \".join(toks)"
   ]
  },
  {
   "cell_type": "code",
   "execution_count": 14,
   "metadata": {},
   "outputs": [
    {
     "name": "stdout",
     "output_type": "stream",
     "text": [
      "time: 5.137962102890015\n"
     ]
    }
   ],
   "source": [
    "start_time = time.time()\n",
    "df['review'] = df['review'].map(remove_punctuation_helper)\n",
    "diff = time.time() - start_time\n",
    "print(\"time: {}\".format(diff))"
   ]
  },
  {
   "cell_type": "code",
   "execution_count": 32,
   "metadata": {},
   "outputs": [
    {
     "name": "stdout",
     "output_type": "stream",
     "text": [
      "time: 1.1207900047302246\n"
     ]
    },
    {
     "data": {
      "text/plain": [
       "0       The bathrooms were well appointed and very clean\n",
       "1      If you pick the right streets you miss any big...\n",
       "2      Caution do n't travel too far south on Polk or...\n",
       "3      The hotel staff especially the concierge was h...\n",
       "4      There are an excessive amount of homeless peop...\n",
       "                             ...                        \n",
       "495                          We had a standard King room\n",
       "496                            Hotel Lobby was beautiful\n",
       "497                      Very friendly and helpful staff\n",
       "498    Out of the shadows a man in normal clothes say...\n",
       "499    The only problem we ever encountered was the l...\n",
       "Name: review-cleaned, Length: 500, dtype: object"
      ]
     },
     "execution_count": 32,
     "metadata": {},
     "output_type": "execute_result"
    }
   ],
   "source": [
    "def token_filter(token):\n",
    "    return not (token.is_punct)\n",
    "\n",
    "start_time = time.time()\n",
    "filtered_tokens = []\n",
    "for doc in spacy_nlp.pipe(df['review'], n_threads=12):\n",
    "    tokens = [token.text for token in doc if token_filter(token)]\n",
    "    filtered_tokens.append(\" \".join(tokens))\n",
    "df['review-cleaned'] = filtered_tokens\n",
    "diff = time.time() - start_time\n",
    "print(\"time: {}\".format(diff))\n",
    "df['review-cleaned']"
   ]
  }
 ],
 "metadata": {
  "kernelspec": {
   "display_name": "Python 3",
   "language": "python",
   "name": "python3"
  },
  "language_info": {
   "codemirror_mode": {
    "name": "ipython",
    "version": 3
   },
   "file_extension": ".py",
   "mimetype": "text/x-python",
   "name": "python",
   "nbconvert_exporter": "python",
   "pygments_lexer": "ipython3",
   "version": "3.7.6"
  }
 },
 "nbformat": 4,
 "nbformat_minor": 4
}
